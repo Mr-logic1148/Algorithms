{
 "cells": [
  {
   "cell_type": "code",
   "execution_count": 66,
   "id": "b6ed4b18",
   "metadata": {},
   "outputs": [],
   "source": [
    "\"\"\" This is the program to search address of the retaielr from the file all_uk_reatiler.csv. \"\"\"\n",
    "#First we import all the required libraries at the top of program.\n",
    "import pandas as pd\n",
    "from tabulate import tabulate\n",
    "\n",
    "#The line below reads the file into the object examples\n",
    "examples = pd.read_csv('all_uk_retailer.csv')\n",
    "\n",
    "def hashfunction(key):\n",
    "    \"\"\"This is the hash function where we send a value and return the respective hashed key\n",
    "    ________________________________________________________________________________________\n",
    "    INPUT  : retailer's name and postcode\n",
    "    OUTPUT : hashVal \"\"\"\n",
    "    P = 16908799\n",
    "    hashVal = 0 \n",
    "    for i in key:\n",
    "        hashVal = (127 * hashVal + ord(i)) % P\n",
    "    return hashVal\n",
    "\n",
    "\n",
    "#The list below stores the hashed keys for all the different retailers at various potcode.\n",
    "hashed_key = []\n",
    "#This list below stores the address of the retailer as read form the file.\n",
    "address_list = []\n",
    "\n",
    "#The for loop helps us to iterrate through the rows of the file and append the values in the repective list.\n",
    "for index, row in examples.iterrows():\n",
    "    hashed_key.append(hashfunction(row.retailer + row.postcode))\n",
    "    address_list.append(row.store_name + \" ; \" + str(row.add_one) + \" ; \" + row.town + \" ; \" + row.postcode + \" ; \" + row.size_band)\n",
    "\n",
    "\n",
    "#Finally we zip the unique hashed key value to the address to retrive the address using the hash key. \n",
    "hashTableRetailer = dict(zip(hashed_key,address_list))"
   ]
  },
  {
   "cell_type": "code",
   "execution_count": 80,
   "id": "2ac22370",
   "metadata": {},
   "outputs": [
    {
     "name": "stdout",
     "output_type": "stream",
     "text": [
      "Enter retailer name and postcode(e.g. Aldi, SW15 5PJ):aldi, ab11 5ej\n",
      "\n",
      "THE FORMATTED OUTPUT IS :\n",
      "╒═══════════════╤═════════════════════════════════╤══════════╤════════════╤═════════════════════════════════════╕\n",
      "│ STORE NAME    │ ADDRESS                         │ TOWN     │ POSTCODE   │ SIZE_BAND                           │\n",
      "╞═══════════════╪═════════════════════════════════╪══════════╪════════════╪═════════════════════════════════════╡\n",
      "│ Aldi Aberdeen │ Unit 9-10 Boulevard Retail Park │ Aberdeen │ AB11 5EJ   │ 3,013 < 15,069 ft2 (280 < 1,400 m2) │\n",
      "╘═══════════════╧═════════════════════════════════╧══════════╧════════════╧═════════════════════════════════════╛\n",
      "\n",
      "!!!PLEASE ENTER GIVEN CHOICE ONLY OR ELSE SEARCH WILL TERMINATE!!!\n",
      "\n",
      "Do you want to run again(yes or no):no\n",
      "\n",
      "********************** THANK YOU FOR USING OUR SEARCH *************************\n"
     ]
    }
   ],
   "source": [
    "def searchretailer():\n",
    "    \"\"\" This is the search retailer function where we take input in user readable form and find retailer using\"\"\"\n",
    "    #Create variable to get user input. \n",
    "    search_retailer = input(\"Enter retailer name and postcode(e.g. Aldi, SW15 5PJ):\")\n",
    "    #Using find method seperate the input in retailer and postcode.\n",
    "    first_sep = search_retailer.find(',')\n",
    "    searchname = search_retailer[:first_sep].capitalize()\n",
    "    searchpostcode = search_retailer[first_sep+2:]\n",
    "    #Converting postcode to uppercase. \n",
    "    searchpostcode_upper =  searchpostcode.upper()\n",
    "    search_hashedkey = hashfunction(searchname+searchpostcode_upper)\n",
    "    #If the value is found dictionary print address using tabulate.\n",
    "    if search_hashedkey in hashTableRetailer:\n",
    "        header = [\"STORE NAME\", \"ADDRESS\", \"TOWN\", \"POSTCODE\", \"SIZE_BAND\"]\n",
    "        address = hashTableRetailer[search_hashedkey]\n",
    "        splited_address = address.split(';')\n",
    "        formatted_address = []\n",
    "        formatted_address.append(header)\n",
    "        formatted_address.append(splited_address)\n",
    "        print(\"\\nTHE FORMATTED OUTPUT IS :\")\n",
    "        print(tabulate(formatted_address, headers = 'firstrow', tablefmt = 'fancy_grid'))\n",
    "       \n",
    "    else:\n",
    "        print(\"Sorry no postcode or retailer found!!!\")\n",
    "        \n",
    "    while True:\n",
    "        #Create variable to get user input if want to perform the search again.\n",
    "        print(\"\\n!!!PLEASE ENTER GIVEN CHOICE ONLY OR ELSE SEARCH WILL TERMINATE!!!\")\n",
    "        search_again = input(\"\\nDo you want to run again(yes or no):\")\n",
    "        search_again_cap = search_again.upper()\n",
    "        if search_again_cap == \"YES\":\n",
    "            print(\"-\" * 124)\n",
    "            searchretailer()\n",
    "        elif search_again_cap == \"NO\":\n",
    "            print(\"\\n********************** THANK YOU FOR USING OUR SEARCH *************************\")\n",
    "            break\n",
    "        else:\n",
    "            print(\"\\nOpps your input was wrong!!!\")\n",
    "\n",
    "searchretailer()"
   ]
  },
  {
   "cell_type": "code",
   "execution_count": 1,
   "id": "d752d7ff",
   "metadata": {},
   "outputs": [
    {
     "name": "stdout",
     "output_type": "stream",
     "text": [
      "one\n"
     ]
    }
   ],
   "source": [
    "Dict = {1: \"one\", 2 : \"two\"}\n",
    "print(Dict[1])"
   ]
  },
  {
   "cell_type": "code",
   "execution_count": 2,
   "id": "109aa8c5",
   "metadata": {},
   "outputs": [
    {
     "name": "stdout",
     "output_type": "stream",
     "text": [
      "['psk', 'roe']\n"
     ]
    }
   ],
   "source": [
    "x = \"psk;roe\"\n",
    "c = x.split(\";\")\n",
    "print(c)"
   ]
  },
  {
   "cell_type": "code",
   "execution_count": null,
   "id": "d39f23a6",
   "metadata": {},
   "outputs": [],
   "source": []
  }
 ],
 "metadata": {
  "kernelspec": {
   "display_name": "Python 3",
   "language": "python",
   "name": "python3"
  },
  "language_info": {
   "codemirror_mode": {
    "name": "ipython",
    "version": 3
   },
   "file_extension": ".py",
   "mimetype": "text/x-python",
   "name": "python",
   "nbconvert_exporter": "python",
   "pygments_lexer": "ipython3",
   "version": "3.8.8"
  }
 },
 "nbformat": 4,
 "nbformat_minor": 5
}
